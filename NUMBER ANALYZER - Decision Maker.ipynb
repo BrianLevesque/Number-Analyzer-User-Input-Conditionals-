{
 "cells": [
  {
   "cell_type": "code",
   "execution_count": null,
   "id": "af3adb7a",
   "metadata": {},
   "outputs": [
    {
     "name": "stdout",
     "output_type": "stream",
     "text": [
      "What is your name? Brian\n",
      "Please enter an integer between 1 and 100 65\n",
      " Brian, your number 65, is Odd and greater than 60.\n"
     ]
    }
   ],
   "source": [
    "run = True\n",
    "name = input(\"What is your name? \")\n",
    "while run:\n",
    "    num = int(input(\"Please enter an integer between 1 and 100 \"))\n",
    "    if num < 1 or num > 100:\n",
    "        print(f' {name}, the number {num}, is not valid.')\n",
    "        break\n",
    "    if num % 2 == 1:  # checking if the number is odd\n",
    "        if num < 60:\n",
    "            print(f' {name}, your number {num}, is Odd and less than 60.' )\n",
    "        else:\n",
    "            print(f' {name}, your number {num}, is Odd and greater than 60.')\n",
    "\n",
    "    else:    #catches numbers that are even\n",
    "        if num >=2 and num <= 24:\n",
    "            print(f'Even and less than 25. {name}')\n",
    "        elif num <= 60:\n",
    "            print(f' {name}, your number is even and between 26 and 60 inclusive.')\n",
    "        else:\n",
    "            print(f' {name}, your number is even and greater than 60.')\n",
    "    keepRun = input(f' Do you to continue running the program, {name}?(y/n)')\n",
    "    if keepRun == \"y\":\n",
    "        run = True\n",
    "    else:\n",
    "        run = False\n",
    "    \n",
    "    "
   ]
  },
  {
   "cell_type": "code",
   "execution_count": null,
   "id": "8e31dd41",
   "metadata": {},
   "outputs": [],
   "source": []
  },
  {
   "cell_type": "code",
   "execution_count": null,
   "id": "ad16ccd6",
   "metadata": {},
   "outputs": [],
   "source": []
  },
  {
   "cell_type": "code",
   "execution_count": null,
   "id": "f6b13cee",
   "metadata": {},
   "outputs": [],
   "source": []
  }
 ],
 "metadata": {
  "kernelspec": {
   "display_name": "Python 3 (ipykernel)",
   "language": "python",
   "name": "python3"
  },
  "language_info": {
   "codemirror_mode": {
    "name": "ipython",
    "version": 3
   },
   "file_extension": ".py",
   "mimetype": "text/x-python",
   "name": "python",
   "nbconvert_exporter": "python",
   "pygments_lexer": "ipython3",
   "version": "3.11.7"
  }
 },
 "nbformat": 4,
 "nbformat_minor": 5
}
